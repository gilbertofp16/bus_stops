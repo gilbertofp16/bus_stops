{
 "cells": [
  {
   "cell_type": "markdown",
   "metadata": {},
   "source": [
    "# Identifying Bus stops by people activities points"
   ]
  },
  {
   "cell_type": "markdown",
   "metadata": {},
   "source": [
    "## Steps\n",
    "\n",
    "\n",
    "1. Understand the problem and similar situations. \n",
    "2. Analyze and format Geojson data.\n",
    "3. Research solutions involving data science solutions regarding clustering methodologies\n",
    "4. Build a clustering method for activity points and consider following options:\n",
    "\ta. K-means method\n",
    "\tb. Hierarchical clustering\n",
    "\tc. DBSCAN clustering\n",
    "5. After research DBSCAN is fitted candidate to be a model for clustering. Then configure parameter for use haversine, this metric is an equation important in navigation, giving great-circle distances between two points on a sphere from their longitudes and latitudes.\n",
    "6. Choose different  kilometer distance to define the epiloson of the DBSCAN. Test form 300 meters to 900 meter were produced. The best length is 800 meters, the method give more accuracy and cover more distance points. \n",
    "7. Take central points from each created cluster, these points are the bus stops accordingly with the clustering obtained by people activities points and their density. \n",
    "9. Display bus stops and routes in a web map. "
   ]
  },
  {
   "cell_type": "markdown",
   "metadata": {},
   "source": [
    "## Execution\n",
    "\n",
    "1. Run ‘python manage.py runserver’ inside bus_stops folder.\n",
    "2. Open http://127.0.0.1:8000/\n",
    "3. Visualize the results. "
   ]
  },
  {
   "cell_type": "markdown",
   "metadata": {},
   "source": [
    "## Code and Steps"
   ]
  },
  {
   "cell_type": "markdown",
   "metadata": {},
   "source": [
    "## Step 1 and 2"
   ]
  },
  {
   "cell_type": "code",
   "execution_count": 49,
   "metadata": {
    "collapsed": true
   },
   "outputs": [],
   "source": [
    "# import python packages\n",
    "import json\n",
    "import warnings\n",
    "import pandas as pd, numpy as np, matplotlib.pyplot as plt, time\n",
    "from sklearn.cluster import DBSCAN\n",
    "from sklearn import metrics\n",
    "from geopy.distance import great_circle\n",
    "from shapely.geometry import MultiPoint\n",
    "import folium\n",
    "\n",
    "# Get coordinates from Geojson objects\n",
    "def get_coordinates(geojson,type):\n",
    "\n",
    "    with open(geojson) as f:\n",
    "        data = json.load(f)\n",
    "\n",
    "    data = data['features']\n",
    "    if type == \"p\":\n",
    "        data= [ dict({\"lat\": object['geometry']['coordinates'][1], \"lon\": object['geometry']['coordinates'][0]}.items()\n",
    "              + object['properties'].items()) for object in data ]\n",
    "    else:## \n",
    "        data = [dict({\"coordinates\": object['geometry']['coordinates']}.items()\n",
    "               + object['properties'].items()) for object in data]\n",
    "    return pd.DataFrame(data)\n",
    "\n",
    "# Obtain coordinates from activity points and routes\n",
    "dataroutes = get_coordinates('stops/routes.geojson',\"r\")\n",
    "datapoints = get_coordinates('stops/activity_points.geojson',\"p\")\n",
    "coords = datapoints.as_matrix(columns=['lat', 'lon'])\n",
    "coords_routes = dataroutes['coordinates'].tolist()\n"
   ]
  },
  {
   "cell_type": "markdown",
   "metadata": {},
   "source": [
    "## Step 3 and 4"
   ]
  },
  {
   "cell_type": "markdown",
   "metadata": {},
   "source": [
    "Research Sources:\n",
    "\n",
    "- Diker, Ahmet Can, and Elvin Nasibov. \"Estimation of traffic congestion level via fn-dbscan algorithm by using gps data.\" Problems of Cybernetics and Informatics (PCI), 2012 IV International Conference. IEEE, 2012.\n",
    "- Rizzo, Giuseppe, et al. \"Geographic summaries from crowdsourced data.\" European Semantic Web Conference. Springer International Publishing, 2014.\n",
    "- da Silva, Ticiana L. Coelho, et al. \"Efficient and Distributed DBScan Algorithm Using MapReduce to Detect Density Areas on Traffic Data.\" ICEIS (1). 2014.\n",
    "- Chen, Bensong, George N. Rouskas, and Rudra Dutta. \"On hierarchical traffic grooming in WDM networks.\" IEEE/ACM Transactions on Networking (TON) 16.5 (2008): 1226-1238.\n",
    "- http://geoffboeing.com/2014/08/clustering-to-reduce-spatial-data-set-size/\n",
    "\n",
    "Chose DBSCAN by their advantages:\n",
    "\n",
    "- DBSCAN does not require one to specify the number of clusters in the data a priori, as opposed to k-means.\n",
    "- DBSCAN can find arbitrarily shaped clusters. It can even find a cluster completely surrounded by (but not connected to) a different cluster. Due to the MinPts parameter, the so-called single-link effect (different clusters being connected by a thin line of points) is reduced.\n",
    "- DBSCAN has a notion of noise, and is robust to outliers.\n",
    "- The parameters minPts and ε can be set by a domain expert, if the data is well understood."
   ]
  },
  {
   "cell_type": "markdown",
   "metadata": {},
   "source": [
    "## Step 5"
   ]
  },
  {
   "cell_type": "code",
   "execution_count": 50,
   "metadata": {
    "collapsed": true
   },
   "outputs": [],
   "source": [
    "def get_centermost_point(cluster):\n",
    "    centroid = (MultiPoint(cluster).centroid.x, MultiPoint(cluster).centroid.y)\n",
    "    centermost_point = min(cluster, key=lambda point: great_circle(point, centroid).m)\n",
    "    return tuple(centermost_point)"
   ]
  },
  {
   "cell_type": "code",
   "execution_count": 51,
   "metadata": {
    "collapsed": false
   },
   "outputs": [
    {
     "name": "stdout",
     "output_type": "stream",
     "text": [
      "800.0 meters used for haversine metric\n",
      "Estimated number of clusters: 31\n",
      "Silhouette coefficient: 0.605\n"
     ]
    },
    {
     "data": {
      "image/png": "[encoded data removed]",
      "text/plain": [
       "<matplotlib.figure.Figure at 0x7fb1a00670d0>"
      ]
     },
     "metadata": {},
     "output_type": "display_data"
    }
   ],
   "source": [
    "    warnings.filterwarnings('ignore')\n",
    "    # define the number of kilometers in one radian\n",
    "    kms_per_radian = 6371.0088\n",
    "    km = 0.8\n",
    "    # define epsilon as 1.5 kilometers, converted to radians for use by haversine\n",
    "    epsilon = km / kms_per_radian\n",
    "    print(str(km*1000) + \" meters used for haversine metric\")\n",
    "\n",
    "    # Execute method DBSCAN, use just 1 min_samples  \n",
    "    # because of isolate user activity points\n",
    "    db = DBSCAN(eps=epsilon, min_samples=1, algorithm='ball_tree', metric='haversine').fit(np.radians(coords))\n",
    "    cluster_labels = db.labels_\n",
    "\n",
    "    # get the number of clusters\n",
    "    num_clusters = len(set(cluster_labels))\n",
    "\n",
    "    # Print the outcome\n",
    "    print('Estimated number of clusters: %d' % num_clusters)\n",
    "    print('Silhouette coefficient: {:0.03f}'.format(metrics.silhouette_score(coords, cluster_labels)))\n",
    "\n",
    "    # turn the clusters in to a pandas series, where each element is a cluster of points\n",
    "    clusters = pd.Series([coords[cluster_labels == n] for n in range(num_clusters)])\n",
    "\n",
    "    centermost_points = clusters.map(get_centermost_point)\n",
    "\n",
    "    # unzip the list of centermost points (lat, lon) tuples into separate lat and lon lists\n",
    "    lats, lons = zip(*centermost_points)\n",
    "\n",
    "    # from these lats/lons create a new df of one representative point for each cluster\n",
    "    rep_points = pd.DataFrame({'lon': lons, 'lat': lats})\n",
    "\n",
    "    core_samples_mask = np.zeros_like(cluster_labels, dtype=bool)\n",
    "    unique_labels = set(cluster_labels)\n",
    "    colors = plt.cm.Spectral(np.linspace(0, 1, len(unique_labels)))\n",
    "    for k, col in zip(unique_labels, colors):\n",
    "        if k == -1:\n",
    "            # Black used for noise.\n",
    "            col = 'k'\n",
    "\n",
    "        class_member_mask = (cluster_labels == k)\n",
    "\n",
    "        xy = coords[class_member_mask & core_samples_mask]\n",
    "        plt.plot(xy[:, 0], xy[:, 1], 'o', markerfacecolor=col,\n",
    "                 markeredgecolor='k', markersize=14)\n",
    "\n",
    "        xy = coords[class_member_mask & ~core_samples_mask]\n",
    "        plt.plot(xy[:, 0], xy[:, 1], 'o', markerfacecolor=col,\n",
    "                 markeredgecolor='k', markersize=6)\n",
    "\n",
    "    plt.title('Estimated number of clusters: %d' % num_clusters)\n",
    "    # Show clusters\n",
    "    plt.show()"
   ]
  },
  {
   "cell_type": "markdown",
   "metadata": {},
   "source": [
    "## Steps 6 and 7"
   ]
  },
  {
   "cell_type": "markdown",
   "metadata": {},
   "source": [
    "**Result with different meters distance were executed**\n",
    "\n",
    "- 300 meters - Estimated number of clusters: 79 - Silhouette coefficient: 0.673\n",
    "\n",
    "- 400 meters - Estimated number of clusters: 59 - Silhouette coefficient: 0.661\n",
    "\n",
    "- 500 meters - Estimated number of clusters: 52 - Silhouette coefficient: 0.667\n",
    "\n",
    "- 600 meters - Estimated number of clusters: 45 - Silhouette coefficient: 0.473\n",
    "\n",
    "- 700 meters - Estimated number of clusters: 38 - Silhouette coefficient: 0.489\n",
    "\n",
    "- 800 meters - Estimated number of clusters: 31 - Silhouette coefficient: 0.605\n",
    "\n",
    "- 900 meters - Estimated number of clusters: 27 - Silhouette coefficient: 0.200\n",
    "\n",
    "800 meters demostrate best visual results for bus stops and good Silhouette coefficient."
   ]
  },
  {
   "cell_type": "markdown",
   "metadata": {},
   "source": [
    "## Step 8"
   ]
  },
  {
   "cell_type": "code",
   "execution_count": 54,
   "metadata": {
    "collapsed": false
   },
   "outputs": [],
   "source": [
    "    # Create a web map from the first bus stop\n",
    "    map = folium.Map(location=[lats[0], lons[0]], zoom_start=13,\n",
    "                       tiles='Stamen Terrain')\n",
    "    \n",
    "    # Take all central points and marked them in the web map\n",
    "    index = 1\n",
    "    for lat, lon in zip(lats, lons):\n",
    "        folium.Marker([lat, lon], popup=(\"Bus Stop for group: \"+ str(index))).add_to(map)\n",
    "        index+=1\n",
    "\n",
    "    # Draw routes inside web map\n",
    "    for route in coords_routes:\n",
    "        route = [tuple([coordinates[1],coordinates[0]]) for coordinates in route]\n",
    "        folium.PolyLine(route, color=\"orange\", weight=2.5, opacity=1).add_to(map)\n",
    "\n",
    "    # Save map as HTML for display as first page\n",
    "    map.save('stops/templates/index.html')"
   ]
  },
  {
   "cell_type": "code",
   "execution_count": 55,
   "metadata": {
    "collapsed": false
   },
   "outputs": [
    {
     "data": {
      "text/html": [
       "\n",
       "        <iframe\n",
       "            width=\"700\"\n",
       "            height=\"350\"\n",
       "            src=\"stops/templates/index.html\"\n",
       "            frameborder=\"0\"\n",
       "            allowfullscreen\n",
       "        ></iframe>\n",
       "        "
      ],
      "text/plain": [
       "<IPython.lib.display.IFrame at 0x7fb19ff4d750>"
      ]
     },
     "execution_count": 55,
     "metadata": {},
     "output_type": "execute_result"
    }
   ],
   "source": [
    "from IPython.display import IFrame\n",
    "IFrame('stops/templates/index.html', width=700, height=350)"
   ]
  }
 ],
 "metadata": {
  "kernelspec": {
   "display_name": "Python 2",
   "language": "python",
   "name": "python2"
  },
  "language_info": {
   "codemirror_mode": {
    "name": "ipython",
    "version": 2
   },
   "file_extension": ".py",
   "mimetype": "text/x-python",
   "name": "python",
   "nbconvert_exporter": "python",
   "pygments_lexer": "ipython2",
   "version": "2.7.12"
  }
 },
 "nbformat": 4,
 "nbformat_minor": 1
}
